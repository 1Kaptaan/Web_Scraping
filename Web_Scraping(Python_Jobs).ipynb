{
 "cells": [
  {
   "cell_type": "markdown",
   "metadata": {},
   "source": [
    "# Web Scraping for Python Jobs from TimesJobs.com"
   ]
  },
  {
   "cell_type": "markdown",
   "metadata": {},
   "source": [
    "## Import the required Libraries \n",
    "#### BeautifulSoup is used to interact with the html file\n",
    "#### requests library is used to grab webpage information. (HTML form in this case)"
   ]
  },
  {
   "cell_type": "code",
   "execution_count": 1,
   "metadata": {},
   "outputs": [],
   "source": [
    "from bs4 import BeautifulSoup\n",
    "import pandas as pd\n",
    "import requests"
   ]
  },
  {
   "cell_type": "markdown",
   "metadata": {},
   "source": [
    "## We grab webpage document as html(.text) file and create a BeautifulSoup instance"
   ]
  },
  {
   "cell_type": "code",
   "execution_count": 2,
   "metadata": {},
   "outputs": [],
   "source": [
    "## requests.get('url').text give us the html file of that webpage\n",
    "\n",
    "timejobs_html = requests.get(\"https://www.timesjobs.com/candidate/job-search.html?searchType=personalized\\\n",
    "Search&from=submit&txtKeywords=python&txtLocation=\").text"
   ]
  },
  {
   "cell_type": "code",
   "execution_count": 3,
   "metadata": {},
   "outputs": [],
   "source": [
    "## we make a BeautifulSoup instance to work with the html\n",
    "## We use lxml as the parser\n",
    "\n",
    "soup = BeautifulSoup(timejobs_html,'lxml')"
   ]
  },
  {
   "cell_type": "markdown",
   "metadata": {},
   "source": [
    "### In order to develop the code to grab all the Python jobs info we start by inspecting the first job..\n",
    "#### After that we loop through the complete webpage and grab all the jobs"
   ]
  },
  {
   "cell_type": "code",
   "execution_count": 4,
   "metadata": {},
   "outputs": [],
   "source": [
    "## We start by grabbing the first instance where we see job title.\n",
    "# After that we can easily loop through all to find every value.\n",
    "\n",
    "job = soup.find('li', class_=\"clearfix job-bx wht-shd-bx\")"
   ]
  },
  {
   "cell_type": "code",
   "execution_count": 5,
   "metadata": {},
   "outputs": [
    {
     "name": "stdout",
     "output_type": "stream",
     "text": [
      "\r\n",
      "EAGatewayServicesIndiaPvtLtd\r\n",
      "\n",
      "\n"
     ]
    }
   ],
   "source": [
    "## Inspecting the html we can see that the company name is under h3 tag\n",
    "# .text will give use the string and replace will remove unwanted characters\n",
    "\n",
    "company = job.find('h3', class_=\"joblist-comp-name\").text.replace(' ','').replace('(MoreJobs)','')\n",
    "print(company)"
   ]
  },
  {
   "cell_type": "code",
   "execution_count": 6,
   "metadata": {},
   "outputs": [
    {
     "name": "stdout",
     "output_type": "stream",
     "text": [
      "python,pandas,numpy,git\n"
     ]
    }
   ],
   "source": [
    "## The skills related to the job are in span tag\n",
    "# We need to remove \\r and \\n for a clear data...\n",
    "\n",
    "skills = job.find('span', class_=\"srp-skills\").text.replace(' ','').replace('\\r','').replace('\\n','')\n",
    "print(skills)"
   ]
  },
  {
   "cell_type": "code",
   "execution_count": 7,
   "metadata": {},
   "outputs": [
    {
     "name": "stdout",
     "output_type": "stream",
     "text": [
      "\n",
      "Posted 6 days ago\n",
      "\n"
     ]
    }
   ],
   "source": [
    "## We need the time it was posted \n",
    "\n",
    "posted = job.find('span', class_=\"sim-posted\").text\n",
    "print(posted)"
   ]
  },
  {
   "cell_type": "code",
   "execution_count": 8,
   "metadata": {},
   "outputs": [
    {
     "data": {
      "text/plain": [
       "'https://www.timesjobs.com/job-detail/python-eagateway-services-india-pvt-ltd-bengaluru-bangalore-3-to-8-yrs-jobid-2Imi2htPAPZzpSvf__PLUS__uAgZw==&source=srp'"
      ]
     },
     "execution_count": 8,
     "metadata": {},
     "output_type": "execute_result"
    }
   ],
   "source": [
    "link = job.header.h2.a['href']\n",
    "link"
   ]
  },
  {
   "cell_type": "markdown",
   "metadata": {},
   "source": [
    "## The above code gives us information about the first job...\n",
    "### We use the above code to define a function to grab all the jobs info in a list form...."
   ]
  },
  {
   "cell_type": "code",
   "execution_count": 9,
   "metadata": {},
   "outputs": [],
   "source": [
    "## Once we have confirmed that data is correct we write a for loop now.\n",
    "\n",
    "jobs = soup.find_all('li', class_=\"clearfix job-bx wht-shd-bx\")\n",
    "\n",
    "def job_details(jobs): ## we just need to pass the soup instance for this function\n",
    "    \n",
    "    c_list = [] ## For the company names\n",
    "    s_list = [] ## For the skills \n",
    "    p_list = [] ## For dates posted\n",
    "    l_list = [] ## For job link\n",
    "\n",
    "    for job in jobs: ## job is similar to jobs[0] \n",
    "        \n",
    "        company = job.find('h3', class_=\"joblist-comp-name\").text\n",
    "        ## We can also do job.h3.text.replace()......\n",
    "        ## But in case of span element we need to specify class, hence can use this...\n",
    "        c_list.append(company)\n",
    "\n",
    "        skills = job.find('span', class_=\"srp-skills\").text\n",
    "        s_list.append(skills)\n",
    "\n",
    "        posted = job.find('span', class_=\"sim-posted\").text\n",
    "        p_list.append(posted)\n",
    "        \n",
    "        link = job.header.h2.a['href']\n",
    "        l_list.append(link)\n",
    "    \n",
    "    ## We return all the lists in the end...\n",
    "    \n",
    "    return c_list, s_list, p_list, l_list"
   ]
  },
  {
   "cell_type": "code",
   "execution_count": 10,
   "metadata": {},
   "outputs": [],
   "source": [
    "## This way we can return multiple lists that we had in the function\n",
    "\n",
    "c_list, s_list, p_list, l_list = job_details(jobs)"
   ]
  },
  {
   "cell_type": "code",
   "execution_count": 11,
   "metadata": {},
   "outputs": [
    {
     "data": {
      "text/plain": [
       "['\\r\\n    EAGateway Services India Pvt Ltd\\r\\n     (More Jobs) \\n',\n",
       " '\\r\\n    Surya Informatics Solutions Pvt. Ltd.\\r\\n    \\r\\n    ',\n",
       " '\\r\\n    Pure Tech Codex Private Limited\\r\\n    \\r\\n    ']"
      ]
     },
     "execution_count": 11,
     "metadata": {},
     "output_type": "execute_result"
    }
   ],
   "source": [
    "## List with company names\n",
    "c_list[0:3]"
   ]
  },
  {
   "cell_type": "code",
   "execution_count": 12,
   "metadata": {},
   "outputs": [
    {
     "data": {
      "text/plain": [
       "['\\npython  ,  pandas  ,  numpy  ,  git\\r\\n        \\r\\n      ',\n",
       " '\\npython  ,  web technologies  ,  linux  ,  mobile  ,  mysql  ,  angularjs  ,  javascript\\r\\n        \\r\\n      ',\n",
       " '\\r\\n      \\r\\n          rest  ,  python  ,  database  ,  django  ,  debugging  ,  mongodb\\r\\n        \\r\\n      ']"
      ]
     },
     "execution_count": 12,
     "metadata": {},
     "output_type": "execute_result"
    }
   ],
   "source": [
    "## List with all the skils\n",
    "s_list[0:3]"
   ]
  },
  {
   "cell_type": "code",
   "execution_count": 13,
   "metadata": {},
   "outputs": [
    {
     "data": {
      "text/plain": [
       "['\\nPosted 6 days ago\\n', '\\nPosted 1 day ago\\n', '\\nPosted few days ago\\n']"
      ]
     },
     "execution_count": 13,
     "metadata": {},
     "output_type": "execute_result"
    }
   ],
   "source": [
    "## List with the posted info\n",
    "p_list[0:3]"
   ]
  },
  {
   "cell_type": "code",
   "execution_count": 14,
   "metadata": {},
   "outputs": [
    {
     "data": {
      "text/plain": [
       "['https://www.timesjobs.com/job-detail/python-eagateway-services-india-pvt-ltd-bengaluru-bangalore-3-to-8-yrs-jobid-2Imi2htPAPZzpSvf__PLUS__uAgZw==&source=srp',\n",
       " 'https://www.timesjobs.com/job-detail/python-surya-informatics-solutions-pvt-ltd-chennai-0-to-3-yrs-jobid-UVlLes58wutzpSvf__PLUS__uAgZw==&source=srp',\n",
       " 'https://www.timesjobs.com/job-detail/python-pure-tech-codex-private-limited-pune-2-to-3-yrs-jobid-OHwfF0d6EhNzpSvf__PLUS__uAgZw==&source=srp']"
      ]
     },
     "execution_count": 14,
     "metadata": {},
     "output_type": "execute_result"
    }
   ],
   "source": [
    "## List with the links for more info\n",
    "link_list = l_list\n",
    "link_list[0:3]"
   ]
  },
  {
   "cell_type": "markdown",
   "metadata": {},
   "source": [
    "## The data in c_list, s_list and p_list needs to be cleaned\n",
    "### We define a function for removing all the unwanted characters..."
   ]
  },
  {
   "cell_type": "code",
   "execution_count": 15,
   "metadata": {},
   "outputs": [],
   "source": [
    "## In order to check for different values in corresponding different lists we use zip(list1, list2, list3)\n",
    "## This way we can apply for loop on different lists at the same time...\n",
    "\n",
    "def remove_spaces(c_list, s_list, p_list):\n",
    "    \n",
    "    company_list = [] ## For all the refined company names\n",
    "    skills_list = []  ## For all the refined skills\n",
    "    posted_list = []  ## For all the refined posted info\n",
    "    \n",
    "    ## .replace() will help us replace all the unwanted values...\n",
    "   \n",
    "    ## With zip we will run a for loop for c in c_list, s in s_list and p in p_list\n",
    "\n",
    "    for (c, s, p) in zip(c_list, s_list, p_list):\n",
    "        \n",
    "        comp = c.replace('\\r','').replace('\\n','').replace(' ','')\n",
    "        company_list.append(comp)\n",
    "        \n",
    "        skill = s.replace('\\r','').replace('\\n','').replace(' ','').replace('\\t',' ')\n",
    "        skills_list.append(skill)\n",
    "        \n",
    "        post = p.replace('\\r','').replace('\\n','').replace(' ','').replace('\\t',' ')\n",
    "        posted_list.append(post)\n",
    "    \n",
    "    return company_list, skills_list, posted_list"
   ]
  },
  {
   "cell_type": "code",
   "execution_count": 16,
   "metadata": {},
   "outputs": [],
   "source": [
    "company_list, skills_list, posted_list = remove_spaces(c_list, s_list, p_list)"
   ]
  },
  {
   "cell_type": "code",
   "execution_count": 17,
   "metadata": {},
   "outputs": [
    {
     "data": {
      "text/plain": [
       "['EAGatewayServicesIndiaPvtLtd(MoreJobs)',\n",
       " 'SuryaInformaticsSolutionsPvt.Ltd.',\n",
       " 'PureTechCodexPrivateLimited']"
      ]
     },
     "execution_count": 17,
     "metadata": {},
     "output_type": "execute_result"
    }
   ],
   "source": [
    "## List with refined company names\n",
    "company_list[0:3]"
   ]
  },
  {
   "cell_type": "code",
   "execution_count": 18,
   "metadata": {},
   "outputs": [
    {
     "data": {
      "text/plain": [
       "['python,pandas,numpy,git',\n",
       " 'python,webtechnologies,linux,mobile,mysql,angularjs,javascript',\n",
       " 'rest,python,database,django,debugging,mongodb']"
      ]
     },
     "execution_count": 18,
     "metadata": {},
     "output_type": "execute_result"
    }
   ],
   "source": [
    "## List with refined skills\n",
    "skills_list[0:3]"
   ]
  },
  {
   "cell_type": "code",
   "execution_count": 19,
   "metadata": {},
   "outputs": [
    {
     "data": {
      "text/plain": [
       "['Posted6daysago', 'Posted1dayago', 'Postedfewdaysago']"
      ]
     },
     "execution_count": 19,
     "metadata": {},
     "output_type": "execute_result"
    }
   ],
   "source": [
    "## List with refined posted info\n",
    "posted_list[0:3]"
   ]
  },
  {
   "cell_type": "markdown",
   "metadata": {},
   "source": [
    "## In order to store this data in our cloud database we need to convert these list to a dataframe"
   ]
  },
  {
   "cell_type": "code",
   "execution_count": 20,
   "metadata": {},
   "outputs": [],
   "source": [
    "## Now we can convert these lists to a dataframe\n",
    "\n",
    "df = pd.DataFrame(zip(company_list, skills_list, posted_list, link_list),\n",
    "                  columns=['Company_name', 'Skills_needed','Day_posted','Link'])"
   ]
  },
  {
   "cell_type": "code",
   "execution_count": 21,
   "metadata": {},
   "outputs": [
    {
     "data": {
      "text/html": [
       "<div>\n",
       "<style scoped>\n",
       "    .dataframe tbody tr th:only-of-type {\n",
       "        vertical-align: middle;\n",
       "    }\n",
       "\n",
       "    .dataframe tbody tr th {\n",
       "        vertical-align: top;\n",
       "    }\n",
       "\n",
       "    .dataframe thead th {\n",
       "        text-align: right;\n",
       "    }\n",
       "</style>\n",
       "<table border=\"1\" class=\"dataframe\">\n",
       "  <thead>\n",
       "    <tr style=\"text-align: right;\">\n",
       "      <th></th>\n",
       "      <th>Company_name</th>\n",
       "      <th>Skills_needed</th>\n",
       "      <th>Day_posted</th>\n",
       "      <th>Link</th>\n",
       "    </tr>\n",
       "  </thead>\n",
       "  <tbody>\n",
       "    <tr>\n",
       "      <th>0</th>\n",
       "      <td>EAGatewayServicesIndiaPvtLtd(MoreJobs)</td>\n",
       "      <td>python,pandas,numpy,git</td>\n",
       "      <td>Posted6daysago</td>\n",
       "      <td>https://www.timesjobs.com/job-detail/python-ea...</td>\n",
       "    </tr>\n",
       "    <tr>\n",
       "      <th>1</th>\n",
       "      <td>SuryaInformaticsSolutionsPvt.Ltd.</td>\n",
       "      <td>python,webtechnologies,linux,mobile,mysql,angu...</td>\n",
       "      <td>Posted1dayago</td>\n",
       "      <td>https://www.timesjobs.com/job-detail/python-su...</td>\n",
       "    </tr>\n",
       "    <tr>\n",
       "      <th>2</th>\n",
       "      <td>PureTechCodexPrivateLimited</td>\n",
       "      <td>rest,python,database,django,debugging,mongodb</td>\n",
       "      <td>Postedfewdaysago</td>\n",
       "      <td>https://www.timesjobs.com/job-detail/python-pu...</td>\n",
       "    </tr>\n",
       "  </tbody>\n",
       "</table>\n",
       "</div>"
      ],
      "text/plain": [
       "                             Company_name  \\\n",
       "0  EAGatewayServicesIndiaPvtLtd(MoreJobs)   \n",
       "1       SuryaInformaticsSolutionsPvt.Ltd.   \n",
       "2             PureTechCodexPrivateLimited   \n",
       "\n",
       "                                       Skills_needed        Day_posted  \\\n",
       "0                            python,pandas,numpy,git    Posted6daysago   \n",
       "1  python,webtechnologies,linux,mobile,mysql,angu...     Posted1dayago   \n",
       "2      rest,python,database,django,debugging,mongodb  Postedfewdaysago   \n",
       "\n",
       "                                                Link  \n",
       "0  https://www.timesjobs.com/job-detail/python-ea...  \n",
       "1  https://www.timesjobs.com/job-detail/python-su...  \n",
       "2  https://www.timesjobs.com/job-detail/python-pu...  "
      ]
     },
     "execution_count": 21,
     "metadata": {},
     "output_type": "execute_result"
    }
   ],
   "source": [
    "df.head(3)"
   ]
  },
  {
   "cell_type": "markdown",
   "metadata": {},
   "source": [
    "### After checking that the data is correct we connect to our database and upload it to the cloud"
   ]
  },
  {
   "cell_type": "code",
   "execution_count": 28,
   "metadata": {},
   "outputs": [],
   "source": [
    "## Connecting to the AWS database\n",
    "\n",
    "# Import pymysql to connect to cloud MySQL database\n",
    "import pymysql as sql\n",
    "\n",
    "# Define confidential database credentials\n",
    "host_name = \"###########\"\n",
    "dbname = '###########'\n",
    "port = 3306\n",
    "username = '###########'\n",
    "password = '###########'\n",
    "\n",
    "# Setup connection\n",
    "conn = sql.connect(host=host_name, user=username, password=password, database=dbname, port=port)\n",
    "\n",
    "# Define cursor to interact with the cloud database\n",
    "curr =conn.cursor()"
   ]
  },
  {
   "cell_type": "code",
   "execution_count": 23,
   "metadata": {},
   "outputs": [
    {
     "data": {
      "text/plain": [
       "(('ecom_customer',), ('videos',))"
      ]
     },
     "execution_count": 23,
     "metadata": {},
     "output_type": "execute_result"
    }
   ],
   "source": [
    "## To check the connection we select the tables we have in the database...\n",
    "curr.execute(\"\"\"SHOW TABLES\"\"\")\n",
    "curr.fetchall()"
   ]
  },
  {
   "cell_type": "markdown",
   "metadata": {},
   "source": [
    "### In order to store our dataframe we need to create a table in the database\n",
    "### Secondly, we need to match the data types in both pandas dataframe and our table"
   ]
  },
  {
   "cell_type": "code",
   "execution_count": 24,
   "metadata": {},
   "outputs": [
    {
     "data": {
      "text/plain": [
       "(('Company_name', 'text', 'NO', '', None, ''),\n",
       " ('Skills_needed', 'text', 'NO', '', None, ''),\n",
       " ('Day_posted', 'text', 'NO', '', None, ''),\n",
       " ('Link', 'text', 'NO', '', None, ''))"
      ]
     },
     "execution_count": 24,
     "metadata": {},
     "output_type": "execute_result"
    }
   ],
   "source": [
    "## We create a new table to store that data that we have scrapped\n",
    "\n",
    "curr.execute(\"\"\"CREATE TABLE IF NOT EXISTS python_jobs(\n",
    "Company_name TEXT NOT NULL,\n",
    "Skills_needed TEXT NOT NULL,\n",
    "Day_posted TEXT NOT NULL,\n",
    "Link TEXT NOT NULL)\"\"\")\n",
    "\n",
    "## We select the columns to check that the table is created properly\n",
    "curr.execute(\"\"\"SHOW COLUMNS FROM python_jobs\"\"\")\n",
    "curr.fetchall()"
   ]
  },
  {
   "cell_type": "code",
   "execution_count": 25,
   "metadata": {},
   "outputs": [
    {
     "name": "stdout",
     "output_type": "stream",
     "text": [
      "<class 'pandas.core.frame.DataFrame'>\n",
      "RangeIndex: 25 entries, 0 to 24\n",
      "Data columns (total 4 columns):\n",
      " #   Column         Non-Null Count  Dtype \n",
      "---  ------         --------------  ----- \n",
      " 0   Company_name   25 non-null     string\n",
      " 1   Skills_needed  25 non-null     string\n",
      " 2   Day_posted     25 non-null     string\n",
      " 3   Link           25 non-null     string\n",
      "dtypes: string(4)\n",
      "memory usage: 928.0 bytes\n"
     ]
    }
   ],
   "source": [
    "## Now we need to change the data type for dataframe values to match our database table\n",
    "\n",
    "replacement={'Company_name':'string', 'Skills_needed':'string', 'Day_posted':'string', 'Link':'string'}\n",
    "df = df.astype(replacement)\n",
    "df.info()"
   ]
  },
  {
   "cell_type": "markdown",
   "metadata": {},
   "source": [
    "### Once done with the scraping and data cleansing, we define a function to insert into the table"
   ]
  },
  {
   "cell_type": "code",
   "execution_count": 26,
   "metadata": {},
   "outputs": [],
   "source": [
    "## We insert values into the table using SQL insert query...\n",
    "\n",
    "def insert_values(curr, Company_name, Skills_needed, Day_posted, Link):\n",
    "    \n",
    "    query = (\"\"\" INSERT INTO python_jobs\n",
    "    (Company_name, Skills_needed, Day_posted, Link) VALUES (%s,%s,%s,%s)\"\"\")\n",
    "    vals_to_insert = (Company_name, Skills_needed, Day_posted, Link)\n",
    "    \n",
    "    curr.execute(query, vals_to_insert)"
   ]
  },
  {
   "cell_type": "code",
   "execution_count": 27,
   "metadata": {},
   "outputs": [],
   "source": [
    "# Now we upload the values to the table by Iterating through dataframe rows\n",
    "\n",
    "def upload(curr,df):\n",
    "    for i, row in df.iterrows():\n",
    "        insert_values(curr,row['Company_name'],row['Skills_needed'],row['Day_posted'],row['Link'])"
   ]
  },
  {
   "cell_type": "code",
   "execution_count": 29,
   "metadata": {},
   "outputs": [],
   "source": [
    "## We run our function and commit changes to our connection\n",
    "upload(curr,df)\n",
    "conn.commit()"
   ]
  },
  {
   "cell_type": "code",
   "execution_count": 30,
   "metadata": {},
   "outputs": [
    {
     "data": {
      "text/plain": [
       "(('EAGatewayServicesIndiaPvtLtd(MoreJobs)',\n",
       "  'python,pandas,numpy,git',\n",
       "  'Posted6daysago',\n",
       "  'https://www.timesjobs.com/job-detail/python-eagateway-services-india-pvt-ltd-bengaluru-bangalore-3-to-8-yrs-jobid-2Imi2htPAPZzpSvf__PLUS__uAgZw==&source=srp'),\n",
       " ('SuryaInformaticsSolutionsPvt.Ltd.',\n",
       "  'python,webtechnologies,linux,mobile,mysql,angularjs,javascript',\n",
       "  'Posted1dayago',\n",
       "  'https://www.timesjobs.com/job-detail/python-surya-informatics-solutions-pvt-ltd-chennai-0-to-3-yrs-jobid-UVlLes58wutzpSvf__PLUS__uAgZw==&source=srp'),\n",
       " ('PureTechCodexPrivateLimited',\n",
       "  'rest,python,database,django,debugging,mongodb',\n",
       "  'Postedfewdaysago',\n",
       "  'https://www.timesjobs.com/job-detail/python-pure-tech-codex-private-limited-pune-2-to-3-yrs-jobid-OHwfF0d6EhNzpSvf__PLUS__uAgZw==&source=srp'),\n",
       " ('GeminiSolutions',\n",
       "  'python,mobile,svn,nosql,pythonscripting,git,api,sqldatabase',\n",
       "  'Postedfewdaysago',\n",
       "  'https://www.timesjobs.com/job-detail/qa-python-python-sdet-gemini-solutions-gurgaon-4-to-7-yrs-jobid-eGMLzwOk2QlzpSvf__PLUS__uAgZw==&source=srp'),\n",
       " ('RESEARCHDEVELOPERS(MoreJobs)',\n",
       "  'python,research,pythonprogrammer,MachineLearning,PatternRecognition,ImageProcessing,DigitalImage,SignalProcessing,ElectronicCircuits,NetworkAnalysis',\n",
       "  'WorkfromHome   Postedfewdaysago',\n",
       "  'https://www.timesjobs.com/job-detail/python-developer-python-programmer-research-developers-delhi-delhi-ncr-noida-greater-noida-0-to-3-yrs-jobid-3MUarDWEYwBzpSvf__PLUS__uAgZw==&source=srp'),\n",
       " ('LAKSHHUMANRESOURCE',\n",
       "  'rest,python,django,git',\n",
       "  'Postedtoday',\n",
       "  'https://www.timesjobs.com/job-detail/python-developer-laksh-human-resource-mumbai-1-to-3-yrs-jobid-Bo79FYBR7__SLASH__5zpSvf__PLUS__uAgZw==&source=srp'),\n",
       " ('TECHNOPARKTRIVANDRUM',\n",
       "  'python,oops,storage',\n",
       "  'Postedtoday',\n",
       "  'https://www.timesjobs.com/job-detail/python-developer-technopark-trivandrum-thiruvananthapuram-2-to-5-yrs-jobid-fGvD5z90MrRzpSvf__PLUS__uAgZw==&source=srp'),\n",
       " ('SEVENCONSULTANCY',\n",
       "  'python,mvc,sql',\n",
       "  'Posted4daysago',\n",
       "  'https://www.timesjobs.com/job-detail/python-developer-seven-consultancy-navi-mumbai-mumbai-4-to-7-yrs-jobid-PGeUDPey4RhzpSvf__PLUS__uAgZw==&source=srp'),\n",
       " ('brickred(3pillarglobal)',\n",
       "  'softwareproducts,Python,DynamoDB',\n",
       "  'Posted4daysago',\n",
       "  'https://www.timesjobs.com/job-detail/python-developer-brickred-3pillar-global-4-to-7-yrs-jobid-nMblzVXwXThzpSvf__PLUS__uAgZw==&source=srp'),\n",
       " ('IvanInfotechPvt.Ltd.',\n",
       "  'rest,python,security,debugging',\n",
       "  'Posted5daysago',\n",
       "  'https://www.timesjobs.com/job-detail/python-developer-ivan-infotech-pvt-ltd-kolkata-2-to-5-yrs-jobid-1h6sLaqbaBZzpSvf__PLUS__uAgZw==&source=srp'),\n",
       " ('AnanthaCyberTechPvtLimited',\n",
       "  'python,c,c,informationtechnology',\n",
       "  'Postedtoday',\n",
       "  'https://www.timesjobs.com/job-detail/python-developer-anantha-cyber-tech-pvt-limited-hyderabad-secunderabad-3-to-6-yrs-jobid-QF9wZ4AGuzlzpSvf__PLUS__uAgZw==&source=srp'),\n",
       " ('Gibots',\n",
       "  'python,elementsdeveloped,performanceapplications',\n",
       "  'Postedtoday',\n",
       "  'https://www.timesjobs.com/job-detail/python-developer-gibots-pune-1-to-2-yrs-jobid-3x1kaokioYFzpSvf__PLUS__uAgZw==&source=srp'),\n",
       " ('GoldenOpportunitiesPvtLtd',\n",
       "  'python,informationtechnology,sql',\n",
       "  'Posted6daysago',\n",
       "  'https://www.timesjobs.com/job-detail/python-developers-golden-opportunities-pvt-ltd-chennai-5-to-8-yrs-jobid-PhsasbleP6xzpSvf__PLUS__uAgZw==&source=srp'),\n",
       " ('TECHNOPARKTRIVANDRUM',\n",
       "  'python,django,debugging,mysql,mongodb',\n",
       "  'Posted1dayago',\n",
       "  'https://www.timesjobs.com/job-detail/python-developer-technopark-trivandrum-thiruvananthapuram-2-to-5-yrs-jobid-jha4teGrKoZzpSvf__PLUS__uAgZw==&source=srp'),\n",
       " ('BoschLtd',\n",
       "  'algorithms,git,oops,debugging,python',\n",
       "  'Posted2daysago',\n",
       "  'https://www.timesjobs.com/job-detail/python-architect-bosch-ltd-coimbatore-bengaluru-bangalore-8-to-10-yrs-jobid-Iu0mR8bRr6hzpSvf__PLUS__uAgZw==&source=srp'),\n",
       " ('TandAHRSolutions',\n",
       "  'Djangoframework,PythonDeveloper,corepython',\n",
       "  'Postedfewdaysago',\n",
       "  'https://www.timesjobs.com/job-detail/python-developer-tanda-hr-solutions-mohali-3-to-5-yrs-jobid-GTT0grHZP1tzpSvf__PLUS__uAgZw==&source=srp'),\n",
       " ('eastindiasecuritiesltd.',\n",
       "  'python,hadoop,machinelearning',\n",
       "  'Postedfewdaysago',\n",
       "  'https://www.timesjobs.com/job-detail/python-engineer-east-india-securities-ltd-kolkata-2-to-5-yrs-jobid-KEkE19WqPbFzpSvf__PLUS__uAgZw==&source=srp'),\n",
       " ('YMGlobalTechnologiesPteLtd',\n",
       "  'python,apache,machinelearning',\n",
       "  'Postedfewdaysago',\n",
       "  'https://www.timesjobs.com/job-detail/python-developer-ym-global-technologies-pte-ltd-singapore-4-to-7-yrs-jobid-bRMEk1dtdLBzpSvf__PLUS__uAgZw==&source=srp'),\n",
       " ('YallastechnologysolutionsPrivatelimitedi(MoreJobs)',\n",
       "  'Python',\n",
       "  'Postedfewdaysago',\n",
       "  'https://www.timesjobs.com/job-detail/python-developer-hiring-for-direct-client-bengaluru-bangalore-chennai-delhi-hyderabad-secunderabad-mumbai-5-to-7-yrs-jobid-90FuI5Nx2g1zpSvf__PLUS__uAgZw==&source=srp'),\n",
       " ('TEAMPLUSSTAFFINGSOLUTIONPVT.LTD.',\n",
       "  'python,pythonscripting,shellscripting,unix',\n",
       "  'Postedfewdaysago',\n",
       "  'https://www.timesjobs.com/job-detail/python-developer-teamplus-staffing-solution-pvt-ltd-pune-6-to-9-yrs-jobid-bjMgIT2lz6JzpSvf__PLUS__uAgZw==&source=srp'),\n",
       " ('sjainventures',\n",
       "  'python,webdeveloper,webservices',\n",
       "  'Posted4daysago',\n",
       "  'https://www.timesjobs.com/job-detail/python-intern-sjain-ventures-raipur-0-to-3-yrs-jobid-KmspiL9__SLASH__D9hzpSvf__PLUS__uAgZw==&source=srp'),\n",
       " ('MINDWORKSGLOBALMEDIASERVICES',\n",
       "  'python,mysql,mongodb',\n",
       "  'Postedfewdaysago',\n",
       "  'https://www.timesjobs.com/job-detail/python-developer-mindworks-global-media-services-noida-greater-noida-0-to-3-yrs-jobid-zrzMATnLcENzpSvf__PLUS__uAgZw==&source=srp'),\n",
       " ('systango',\n",
       "  'python,django,javascript,webprogramming',\n",
       "  'Posted5daysago',\n",
       "  'https://www.timesjobs.com/job-detail/python-developer-systango-indore-5-to-8-yrs-jobid-YtDomXdajg5zpSvf__PLUS__uAgZw==&source=srp'),\n",
       " ('goldeneagleittechnologiespvtltd',\n",
       "  'memorymanagement,python,django,oops',\n",
       "  'Posted5daysago',\n",
       "  'https://www.timesjobs.com/job-detail/python-developer-golden-eagle-it-technologies-pvt-ltd-indore-4-to-7-yrs-jobid-rFqjWyhMCARzpSvf__PLUS__uAgZw==&source=srp'),\n",
       " ('3RITechnologiesPvtLtd',\n",
       "  'python,database,security,django,git,mobile',\n",
       "  'Postedtoday',\n",
       "  'https://www.timesjobs.com/job-detail/python-developer-3ri-technologies-pvt-ltd-pune-0-to-1-yrs-jobid-XwIptPV6DkJzpSvf__PLUS__uAgZw==&source=srp'))"
      ]
     },
     "execution_count": 30,
     "metadata": {},
     "output_type": "execute_result"
    }
   ],
   "source": [
    "## To check that the process is successful we fetcall the values from our cloud table\n",
    "curr.execute('''SELECT * FROM python_jobs''')\n",
    "curr.fetchall()"
   ]
  },
  {
   "cell_type": "code",
   "execution_count": null,
   "metadata": {},
   "outputs": [],
   "source": []
  }
 ],
 "metadata": {
  "kernelspec": {
   "display_name": "Python 3",
   "language": "python",
   "name": "python3"
  },
  "language_info": {
   "codemirror_mode": {
    "name": "ipython",
    "version": 3
   },
   "file_extension": ".py",
   "mimetype": "text/x-python",
   "name": "python",
   "nbconvert_exporter": "python",
   "pygments_lexer": "ipython3",
   "version": "3.7.6"
  }
 },
 "nbformat": 4,
 "nbformat_minor": 4
}
